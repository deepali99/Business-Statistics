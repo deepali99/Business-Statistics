{
 "cells": [
  {
   "cell_type": "markdown",
   "metadata": {},
   "source": [
    "<b>Mode</b>: It is the most frequent occuring value in a set of data. We need to organise the data into an ordered array(from smallest to largest)<br>\n",
    "Datasets with 2 mode values are known as <b>bimodal</b><br>\n",
    "Datsets with more than two modes are referred to as <b>multimodal</b><br>\n",
    "Mode can be appropriate for <b>Nominal Data</b><br>\n",
    "<b>Example</b>: If a sandwich shop sells 10 different types of sandwiches, the mode would represent the most popular sandwich\n"
   ]
  },
  {
   "cell_type": "markdown",
   "metadata": {},
   "source": [
    "<b>Median:</b> It is the middle value of an ordered array of numbers(from smallest to largest)<br>\n",
    "    Median is unaffected by the magnitude of extreme values<br>\n",
    "    Median can be appropriate for <b>ordinal data</b><br>\n",
    "    <b>Example:</b> In a group of people if salary of 1 person is 50 lakh and the salary of the other people in the group is in the range of 10-15 lakh.In such a case the mean salary will be high 'cz of unusually large salary of one particular person.In such cases a median may represent the typical salary of the group in a better manner<br>\n",
    "    \n",
    "The disadvantage of median is that not all data is used. Example in the above example the highest salary does not really enter into computation\n",
    "                                                                "
   ]
  },
  {
   "cell_type": "markdown",
   "metadata": {},
   "source": [
    "<b>Mean:</b> It is the average of group of numbers<br>\n",
    "Mean uses all the data,and each data item influences the mean. It is also a disadvantage because extremely large or small values can cause the mean to be pulled towards the extreme value"
   ]
  },
  {
   "cell_type": "markdown",
   "metadata": {},
   "source": [
    "<b>Percentiles:</b> It divides a group of data into 100 parts<br>\n",
    "<b>Example:</b > 87th percentile is a value such that at least 87% of the data are below the value and not more than 13%(100-87) are above the value<br>\n",
    "It is mainly used in reporting test results\n"
   ]
  },
  {
   "cell_type": "markdown",
   "metadata": {},
   "source": [
    "<b>Quartiles:</b> It divides a data into 4 subgroups or parts<br>\n",
    "    <b>1st quartile:</b> Middle number between the smallest number and the median of the data(25th percentile)<br>\n",
    "    <b>2nd quartile:</b> Median of tehe data(50th percentile)<br>\n",
    "    <b>3rd quartile:</b> Middle value between median and the highest value(75th percentile)<br>\n",
    "    <b>Usage:</b> Divides population into groups<br>\n",
    "    <b>Example:</b> Find top 25% of income in a population\n",
    "    \n",
    "    "
   ]
  },
  {
   "cell_type": "code",
   "execution_count": null,
   "metadata": {},
   "outputs": [],
   "source": []
  }
 ],
 "metadata": {
  "kernelspec": {
   "display_name": "Python 3",
   "language": "python",
   "name": "python3"
  },
  "language_info": {
   "codemirror_mode": {
    "name": "ipython",
    "version": 3
   },
   "file_extension": ".py",
   "mimetype": "text/x-python",
   "name": "python",
   "nbconvert_exporter": "python",
   "pygments_lexer": "ipython3",
   "version": "3.6.4"
  }
 },
 "nbformat": 4,
 "nbformat_minor": 2
}
